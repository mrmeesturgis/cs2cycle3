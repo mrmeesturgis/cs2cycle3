{
 "cells": [
  {
   "cell_type": "markdown",
   "id": "d8bba665",
   "metadata": {
    "deletable": false,
    "editable": false
   },
   "source": [
    "<img src=\"https://www.sturgischarterschool.com/wp-content/uploads/2019/06/sturgisheader_logo.png\" alt=\"sturgis\" width=\"250\" align=\"right\"/>\n",
    "\n",
    "## Computer Science 'Waffle Stacks' notebook 3\n",
    "### Sturgis Charter Public School \n",
    "\n"
   ]
  },
  {
   "cell_type": "markdown",
   "id": "681696fb",
   "metadata": {},
   "source": [
    "Student: [your name here]\n",
    "\n",
    "Collaborators: [N/A]\n",
    "\n",
    "Notes to the teacher: [N/A]"
   ]
  },
  {
   "cell_type": "code",
   "execution_count": null,
   "id": "de183c03",
   "metadata": {
    "deletable": false,
    "editable": false
   },
   "outputs": [],
   "source": [
    "import csv \n",
    "#Be sure to run this cell!"
   ]
  },
  {
   "cell_type": "markdown",
   "id": "16bf0839",
   "metadata": {
    "deletable": false,
    "editable": false
   },
   "source": [
    "### Learning Objectives for notebook \n",
    "* Mutable and Immutable\n",
    "* Lists of lists\n",
    "* Tuples\n",
    "* Boolean expressions\n",
    "* **HL** ADT: Stacks"
   ]
  },
  {
   "cell_type": "markdown",
   "id": "191991bb",
   "metadata": {
    "deletable": false,
    "editable": false
   },
   "source": [
    "## Narrative\n",
    "\n",
    "Onward and upward. So we've started manipulating lists. We know how to debug a bit, and we can build some simple functions. We're going to stay at this level for the most part this week, but start to enrich some of these ideas. \n",
    "\n",
    "#### Mutable and immutable\n",
    "\n",
    "First, let's talk about mutable and immutable. Mutable means 'able to be changed', and immutable means 'unable to be changed'. Look at the following description of data types. I find it especially interesting that intigers are immutable. How can this be?! We'll talk more about that later, but for now what's interesting is that there actually only three mutable types of data. For the others we can still change them, but we have to do it in a roundabout way. We have to reassign them. We're going to practice this using the tuple data type. e.g. `tuplevariable = ('example1', example2)` Note that a tuple can hold multiple data types at the same time.\n",
    "\n",
    "![Mutable vs Immutable](mutable.png)\n",
    "\n",
    "#### List of lists\n",
    "\n",
    "So far we've looked at a single list. Something that looks like this. `list1 = ['str1', 'str2', 'str3']` But lists have even more functionality. You can actually have a list of lists. This can be very useful. Let's imagine that we have a list of strings, but what we really want is a list of tokens. Take a look at the following image. \n",
    "\n",
    "![List vs. List of list](listoflists.png)\n",
    "\n",
    "Note a few things. First note that one list has only one bracket. And the other has two brackets. Then note that in both there are commas, in the first the commas separate the strings, in the second they separate the brackets, which indicates to us that they are separating lists. I could then iterate over multiple layers of data. Think of it like this `listoflists <-> lists <-> strings <-> characters`. As is very common we start with very simple elements and start building more and more complex elements.\n",
    "\n",
    "#### Tuples\n",
    "\n",
    "Tuples are a data type which we have briefly encountered before. They are generally marked off by parenthesis e.g. `(element1, element2, element3)` Tuples are immutable, which means that you can't modify their structure once you built them. But you can always just make a new tuple if you need to 'modify' it. Just like lists, tuples can hold a variety of elements within, even at the same time. \n",
    "\n",
    "#### Boolean expressions\n",
    "\n",
    "So Boolean is a data type as well. While it is not all that common overtly, sometimes the presence of something is equivalent to `True` and the absence of something is equivalant to `False`. Consider the string method `islower()`, which returns either `True` or `False`. As far as a datatype there's not much else to say about it. It literally has only two possible elements. Note, however, that it is keyworded with an initial capital letter: false != `False` and true != `True`.\n",
    "\n",
    "#### More complex functions\n",
    "\n",
    "Last cycle we looked at the function that compared the word length of strings. This week we are going to build up a few more complex functions. Complex by definition does not mean 'trickier', but rather 'having more parts'. It just so happens that things that have more parts generally are trickier."
   ]
  },
  {
   "cell_type": "markdown",
   "id": "eeb0e859",
   "metadata": {},
   "source": [
    "### Question 1: Boolean Expressions\n",
    "\n",
    "Let's start with boolean expressions. In order to pass the assert check you need to be able to transform a list into a boolean value, based on whether or not it is true. To practice this I'm going to give you a tuple of two numbers. You will do some math and return either `True` if it has a remainder or returns a number with decimal points, or `False` if it doesn't. Take note! the modulus operator `%` might be very helpful. It checks to see if there is a remainder after a division. Alternatively you can check the type. If it has a decimal point it's going to be `float`, rather than `int`."
   ]
  },
  {
   "cell_type": "code",
   "execution_count": null,
   "id": "5c1f9079",
   "metadata": {},
   "outputs": [],
   "source": [
    "#Let's load some dummy data\n",
    "with open('MOCK_DATA_NUMS.csv', newline='') as csvfile:\n",
    "    ddata = csv.reader(csvfile, delimiter=',')\n",
    "    data = []\n",
    "    for row in ddata:\n",
    "        data.append(row)\n",
    "\n",
    "#I'm going to refine the data into a list of tuples that are intigers\n",
    "for i, line in enumerate(data[1:]):\n",
    "    data[i] = (int(line[0]), int(line[1]))\n",
    "data.pop(-1)\n",
    "\n",
    "#Now let's just take a look at the data. It's a list of tuples.\n",
    "print(data)\n",
    "print(len(data))"
   ]
  },
  {
   "cell_type": "code",
   "execution_count": null,
   "id": "95690f82",
   "metadata": {},
   "outputs": [],
   "source": [
    "# Write a code snippet that checks to see if the first element of the tuple divided by the second results in an intiger or a float.\n",
    "# Your list should be a list of True or False statements.\n",
    "answer = []\n",
    "raise NotImplementedError('Erase this line and put your code here')"
   ]
  },
  {
   "cell_type": "code",
   "execution_count": null,
   "id": "63ae7f79",
   "metadata": {
    "deletable": false,
    "editable": false
   },
   "outputs": [],
   "source": [
    "trueorfalse = [False, False, False, False, False, False, False, False, False, False, False, False, False, False, True, True, False, True, False, False, False, False, True, True, False, False, False, False, True, False, False, False, False, True, False, False, False, False, False, False, False, False, True, False, True, False, False, False, True, True]\n",
    "for i, torf in enumerate(answer):\n",
    "    assert trueorfalse[i] == torf"
   ]
  },
  {
   "cell_type": "markdown",
   "id": "60d3ff3d",
   "metadata": {},
   "source": [
    "### Question 2: Tuples\n",
    "\n",
    "Alright, let's play around with Tuples. These can be a bit tricky because they are immutable. We're going to use the same data from question 1, but we're going to build a more verbose list of tuples. Where it used to look like `(44, 6)` -> `(44, 6, 'False')`. But for the **HL** students we're going to do one more step. We then want our data to be sorted so that all the False are listed together, and then all the True are listed together. "
   ]
  },
  {
   "cell_type": "code",
   "execution_count": null,
   "id": "db21760f",
   "metadata": {},
   "outputs": [],
   "source": [
    "#Use the list data, above\n",
    "#Use your list of False and True\n",
    "# Combine them together\n",
    "#HL students should sort them\n",
    "# Set HL either to True or False\n",
    "HL = False\n",
    "SLtup = []\n",
    "HLtup = []\n",
    "raise NotImplementedError('Erase this line and put your code here')"
   ]
  },
  {
   "cell_type": "code",
   "execution_count": null,
   "id": "302acf91",
   "metadata": {
    "deletable": false,
    "editable": false
   },
   "outputs": [],
   "source": [
    "if HL == False:\n",
    "    assert SLtup == [(44, 6, False), (87, 2, False), (83, 4, False), (53, 4, False), (2, 6, False), (13, 9, False), (39, 8, False), (93, 4, False), (62, 7, False), (93, 6, False), (5, 2, False), (68, 9, False), (87, 5, False), (65, 6, False), (53, 1, True), (45, 3, True), (95, 7, False), (67, 1, True), (95, 8, False), (6, 4, False), (2, 7, False), (63, 5, False), (40, 10, True), (91, 7, True), (84, 5, False), (5, 8, False), (62, 10, False), (47, 3, False), (66, 2, True), (73, 2, False), (65, 10, False), (15, 9, False), (16, 6, False), (63, 9, True), (57, 4, False), (48, 9, False), (97, 8, False), (17, 2, False), (5, 6, False), (69, 2, False), (86, 6, False), (58, 4, False), (72, 3, True), (55, 6, False), (13, 1, True), (33, 6, False), (73, 9, False), (1, 10, False), (11, 1, True), (62, 2, True)]\n",
    "if HL == True:\n",
    "    assert HLtup == [(53, 1, True), (45, 3, True), (67, 1, True), (40, 10, True), (91, 7, True), (66, 2, True), (63, 9, True), (72, 3, True), (13, 1, True), (11, 1, True), (62, 2, True), (44, 6, False), (87, 2, False), (83, 4, False), (53, 4, False), (2, 6, False), (13, 9, False), (39, 8, False), (93, 4, False), (62, 7, False), (93, 6, False), (5, 2, False), (68, 9, False), (87, 5, False), (65, 6, False), (95, 7, False), (95, 8, False), (6, 4, False), (2, 7, False), (63, 5, False), (84, 5, False), (5, 8, False), (62, 10, False), (47, 3, False), (73, 2, False), (65, 10, False), (15, 9, False), (16, 6, False), (57, 4, False), (48, 9, False), (97, 8, False), (17, 2, False), (5, 6, False), (69, 2, False), (86, 6, False), (58, 4, False), (55, 6, False), (33, 6, False), (73, 9, False), (1, 10, False)]"
   ]
  },
  {
   "cell_type": "markdown",
   "id": "8a0c145e",
   "metadata": {},
   "source": [
    "### Question 3: List of Lists\n",
    "Once again we're going to use some mock data. We actually already have a list of lists. Take a look! But we're going to take it one step further. I want you to list all the names that start with the same letter as the animal. So, for example if it was a `Stanley crane` I'm interested in the 'c' from 'crane'. We might end up with a a list that looks like this `['Stanley crane', ['Charlie', 'Cassandra', 'Cynthia', 'Claude']]`. And you should do this for each of the different animals, which means that a firstname might be used more than once."
   ]
  },
  {
   "cell_type": "code",
   "execution_count": null,
   "id": "120e45c7",
   "metadata": {},
   "outputs": [],
   "source": [
    "#A problem that involves list of lists\n",
    "#Let's load some dummy data\n",
    "with open('MOCK_DATA_ANI.csv', newline='') as csvfile:\n",
    "    ddata = csv.reader(csvfile, delimiter=',')\n",
    "    data = []\n",
    "    for row in ddata:\n",
    "        data.append(row)\n",
    "print(data.pop(66)) #let's get rid of some pesky data!\n",
    "print(data.pop(78))"
   ]
  },
  {
   "cell_type": "code",
   "execution_count": null,
   "id": "a1c59f48",
   "metadata": {},
   "outputs": [],
   "source": [
    "#Hint, break this down into two separate tasks. First collect all the names and sort them into lists by alphabet.\n",
    "#Then pair the two together.\n",
    "#If you can't figure out how to get to the second, word (e.g. shark, rather than Blue), consider string.split()\n",
    "raise NotImplementedError('Erase this line and put your code here')"
   ]
  },
  {
   "cell_type": "code",
   "execution_count": null,
   "id": "be64b45f",
   "metadata": {
    "deletable": false,
    "editable": false
   },
   "outputs": [],
   "source": [
    "assert type(answer) == list\n",
    "assert type(answer[0]) == list\n",
    "assert type(answer[0][1]) == list\n",
    "assert answer[10] == ['Blue shark', ['Sonia', 'Selinda', 'Sosanna', 'Skip']]\n",
    "assert answer[72] == ['Lemur, brown', ['Benito', 'Brandie', 'Bob', 'Buck']]\n",
    "assert answer[56] == ['Woolly-necked stork', ['Sonia', 'Selinda', 'Sosanna', 'Skip']]"
   ]
  },
  {
   "cell_type": "markdown",
   "id": "6803346d",
   "metadata": {},
   "source": [
    "### Question 4: Practicing Functions\n",
    "The following question is **SL** optional. Write a function that unwraps lists until they are just a single string. So for example, all of the data above would now just be one long string."
   ]
  },
  {
   "cell_type": "code",
   "execution_count": null,
   "id": "d04757ea",
   "metadata": {},
   "outputs": [],
   "source": [
    "def listunwrapper(list):\n",
    "    #Your code here\n",
    "    raise NotImplementedError('Erase this line and put your code here')\n",
    "    return unwrapped"
   ]
  },
  {
   "cell_type": "code",
   "execution_count": null,
   "id": "4b4b542f",
   "metadata": {
    "deletable": false,
    "editable": false
   },
   "outputs": [],
   "source": [
    "# NOTE, this is taking your answer from question 3, not just the data used in question 3. This should unwrap three layers of lists. \n",
    "assert type(answer) == list\n",
    "unwrapped = listunwrapper(data)\n",
    "assert type(unwrapped) != list\n",
    "assert len(unwrapped) == 662"
   ]
  },
  {
   "cell_type": "markdown",
   "id": "9abd5170",
   "metadata": {
    "deletable": false,
    "editable": false
   },
   "source": [
    "### Question 5: Short Response\n",
    "\n",
    "![truthtable](logic.png)\n",
    "\n"
   ]
  },
  {
   "cell_type": "markdown",
   "id": "a8fda99f",
   "metadata": {},
   "source": [
    "#### Answer to question 5\n",
    "\n",
    "#### Bonus points if you can insert your own image into this cell.\n",
    "\n",
    "Use [markdown](https://commonmark.org/help/) to accomplish this. You will also have to put your image file into the folder of your repository and push it with the rest of your answer. "
   ]
  },
  {
   "cell_type": "markdown",
   "id": "d267d423",
   "metadata": {},
   "source": [
    "### Question 6: HL Stacks\n",
    "\n",
    "Firstly, be sure to check out the [chapter of the textbook](Python_chp26_Stacks.pdf).\n",
    "\n",
    "In Python Stacks are quite easily implemented at a simple level. Still it's important that we understand how they work conceptually. A more robust model would be a stronger implementation of the linked list model we looked at last week, but we'll leave that on the side for now. \n",
    "\n",
    "The key thing is that they are a Last in first out (LIFO) model. That's to say that whatever is added most recently is what is called first. Think of it like a stack of plates. When you unload the dishwasher, you add the dish to the top. When you go to use a plate, you take from the top (which happens to be the one most recently washed in the dishwasher). In fact, it's pretty likely that you won't get to that bottom plate for a long time (unless you have a lot of guests). \n",
    "\n",
    "Build a stack and then populate it with numbers range(1,101), which is to sayfirst num is 1, last is 100. **But** after every third time you push, I want you to pop before you push the fourth. "
   ]
  },
  {
   "cell_type": "code",
   "execution_count": null,
   "id": "b081b78f",
   "metadata": {},
   "outputs": [],
   "source": [
    "#hint, read the chapter (or at least the most useful parts)\n",
    "class Stack:\n",
    "    def __init__(self):\n",
    "        raise NotImplementedError('Erase this line and put your code here')\n",
    "\n",
    "    def push(self, item):\n",
    "        raise NotImplementedError('Erase this line and put your code here')\n",
    "\n",
    "    def pop(self):\n",
    "        raise NotImplementedError('Erase this line and put your code here')\n",
    "\n",
    "    def is_empty(self):\n",
    "        raise NotImplementedError('Erase this line and put your code here')"
   ]
  },
  {
   "cell_type": "code",
   "execution_count": null,
   "id": "7956b3b5",
   "metadata": {
    "deletable": false,
    "editable": false
   },
   "outputs": [],
   "source": [
    "istack = Stack()\n",
    "assert istack.is_empty() == True"
   ]
  },
  {
   "cell_type": "code",
   "execution_count": null,
   "id": "3b0fe1b3",
   "metadata": {},
   "outputs": [],
   "source": [
    "#Now populate the list with the appropriate numbers. \n"
   ]
  },
  {
   "cell_type": "code",
   "execution_count": null,
   "id": "37e4abbd",
   "metadata": {
    "deletable": false,
    "editable": false
   },
   "outputs": [],
   "source": [
    "assert istack.items == [1, 2, 4, 5, 7, 8, 10, 11, 13, 14, 16, 17, 19, 20, 22, 23, 25, 26, 28, 29, 31, 32, 34, 35, 37, 38, 40, 41, 43, 44, 46, 47, 49, 50, 52, 53, 55, 56, 58, 59, 61, 62, 64, 65, 67, 68, 70, 71, 73, 74, 76, 77, 79, 80, 82, 83, 85, 86, 88, 89, 91, 92, 94, 95, 97, 98, 100]\n"
   ]
  }
 ],
 "metadata": {
  "kernelspec": {
   "display_name": "Python 3 (ipykernel)",
   "language": "python",
   "name": "python3"
  },
  "language_info": {
   "codemirror_mode": {
    "name": "ipython",
    "version": 3
   },
   "file_extension": ".py",
   "mimetype": "text/x-python",
   "name": "python",
   "nbconvert_exporter": "python",
   "pygments_lexer": "ipython3",
   "version": "3.9.7"
  }
 },
 "nbformat": 4,
 "nbformat_minor": 5
}
